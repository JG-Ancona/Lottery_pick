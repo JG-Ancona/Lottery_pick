{
 "cells": [
  {
   "cell_type": "markdown",
   "metadata": {},
   "source": [
    "# Lottery Numbers Analysis "
   ]
  },
  {
   "cell_type": "markdown",
   "metadata": {},
   "source": [
    "## Introduction"
   ]
  },
  {
   "cell_type": "markdown",
   "metadata": {},
   "source": [
    "The main idea of this project is to perform an analysis of all winning numbers in Lotto Max by creating visual representations suchs as heat maps, dispertion graphs, histograms, among others.\n",
    "\n",
    "After the analysis stage, the second objective is to perfom an approach similar to a Travelling salesman problem, by choosing numbers with the higher probability to be the consecutive while choosing."
   ]
  },
  {
   "cell_type": "markdown",
   "metadata": {},
   "source": [
    "## Importing data from source"
   ]
  },
  {
   "cell_type": "markdown",
   "metadata": {},
   "source": [
    "The data comes from [Lottery Guru](https://lotteryguru.com/canada-lottery-results/ca-lotto-max/ca-lotto-max-results-history). All data is copy and paste into a .txt file manually with outformat."
   ]
  },
  {
   "cell_type": "markdown",
   "metadata": {},
   "source": []
  }
 ],
 "metadata": {
  "language_info": {
   "name": "python"
  },
  "orig_nbformat": 4
 },
 "nbformat": 4,
 "nbformat_minor": 2
}
