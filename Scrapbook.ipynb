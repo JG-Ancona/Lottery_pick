{
 "cells": [
  {
   "cell_type": "markdown",
   "metadata": {},
   "source": [
    "# Lottery Numbers Analysis "
   ]
  },
  {
   "cell_type": "markdown",
   "metadata": {},
   "source": [
    "## Introduction"
   ]
  },
  {
   "cell_type": "markdown",
   "metadata": {},
   "source": [
    "The main idea of this project is to perform an analysis of all winning numbers in Lotto Max by creating visual representations suchs as heat maps, dispertion graphs, histograms, among others.\n",
    "\n",
    "After the analysis stage, the second objective is to perfom an approach similar to a Travelling salesman problem, by choosing numbers with the higher probability to be the consecutive while choosing."
   ]
  },
  {
   "cell_type": "markdown",
   "metadata": {},
   "source": [
    "## Importing data from source"
   ]
  },
  {
   "cell_type": "markdown",
   "metadata": {},
   "source": [
    "The data comes from [Lottery Guru](https://lotteryguru.com/canada-lottery-results/ca-lotto-max/ca-lotto-max-results-history). All data is copy and paste into a .txt file manually with outformat."
   ]
  },
  {
   "cell_type": "code",
   "execution_count": 74,
   "metadata": {},
   "outputs": [
    {
     "name": "stderr",
     "output_type": "stream",
     "text": [
      "c:\\Users\\ACER\\anaconda3\\lib\\site-packages\\pandas\\core\\generic.py:4150: PerformanceWarning: dropping on a non-lexsorted multi-index without a level parameter may impact performance.\n",
      "  obj = obj._drop_axis(labels, axis, level=level, errors=errors)\n"
     ]
    },
    {
     "data": {
      "text/html": [
       "<div>\n",
       "<style scoped>\n",
       "    .dataframe tbody tr th:only-of-type {\n",
       "        vertical-align: middle;\n",
       "    }\n",
       "\n",
       "    .dataframe tbody tr th {\n",
       "        vertical-align: top;\n",
       "    }\n",
       "\n",
       "    .dataframe thead tr th {\n",
       "        text-align: left;\n",
       "    }\n",
       "</style>\n",
       "<table border=\"1\" class=\"dataframe\">\n",
       "  <thead>\n",
       "    <tr>\n",
       "      <th></th>\n",
       "      <th>Day</th>\n",
       "      <th>Date</th>\n",
       "      <th>1</th>\n",
       "      <th>2</th>\n",
       "      <th>3</th>\n",
       "      <th>4</th>\n",
       "      <th>5</th>\n",
       "      <th>6</th>\n",
       "      <th>7</th>\n",
       "      <th>Bonus</th>\n",
       "      <th>Price</th>\n",
       "    </tr>\n",
       "  </thead>\n",
       "  <tbody>\n",
       "    <tr>\n",
       "      <th>0</th>\n",
       "      <td>Tuesday</td>\n",
       "      <td>26 Jul 2022</td>\n",
       "      <td>3</td>\n",
       "      <td>8</td>\n",
       "      <td>9</td>\n",
       "      <td>15</td>\n",
       "      <td>21</td>\n",
       "      <td>27</td>\n",
       "      <td>31</td>\n",
       "      <td>33</td>\n",
       "      <td>30516060</td>\n",
       "    </tr>\n",
       "    <tr>\n",
       "      <th>1</th>\n",
       "      <td>Friday</td>\n",
       "      <td>22 Jul 2022</td>\n",
       "      <td>1</td>\n",
       "      <td>9</td>\n",
       "      <td>19</td>\n",
       "      <td>34</td>\n",
       "      <td>37</td>\n",
       "      <td>39</td>\n",
       "      <td>49</td>\n",
       "      <td>6</td>\n",
       "      <td>25000000</td>\n",
       "    </tr>\n",
       "    <tr>\n",
       "      <th>2</th>\n",
       "      <td>Tuesday</td>\n",
       "      <td>19 Jul 2022</td>\n",
       "      <td>6</td>\n",
       "      <td>9</td>\n",
       "      <td>17</td>\n",
       "      <td>19</td>\n",
       "      <td>31</td>\n",
       "      <td>34</td>\n",
       "      <td>46</td>\n",
       "      <td>4</td>\n",
       "      <td>20000000</td>\n",
       "    </tr>\n",
       "    <tr>\n",
       "      <th>3</th>\n",
       "      <td>Friday</td>\n",
       "      <td>15 Jul 2022</td>\n",
       "      <td>4</td>\n",
       "      <td>7</td>\n",
       "      <td>12</td>\n",
       "      <td>18</td>\n",
       "      <td>29</td>\n",
       "      <td>47</td>\n",
       "      <td>49</td>\n",
       "      <td>48</td>\n",
       "      <td>15000000</td>\n",
       "    </tr>\n",
       "    <tr>\n",
       "      <th>4</th>\n",
       "      <td>Tuesday</td>\n",
       "      <td>12 Jul 2022</td>\n",
       "      <td>8</td>\n",
       "      <td>11</td>\n",
       "      <td>15</td>\n",
       "      <td>16</td>\n",
       "      <td>26</td>\n",
       "      <td>29</td>\n",
       "      <td>40</td>\n",
       "      <td>37</td>\n",
       "      <td>10000000</td>\n",
       "    </tr>\n",
       "    <tr>\n",
       "      <th>...</th>\n",
       "      <td>...</td>\n",
       "      <td>...</td>\n",
       "      <td>...</td>\n",
       "      <td>...</td>\n",
       "      <td>...</td>\n",
       "      <td>...</td>\n",
       "      <td>...</td>\n",
       "      <td>...</td>\n",
       "      <td>...</td>\n",
       "      <td>...</td>\n",
       "      <td>...</td>\n",
       "    </tr>\n",
       "    <tr>\n",
       "      <th>146</th>\n",
       "      <td>Friday</td>\n",
       "      <td>26 Feb 2021</td>\n",
       "      <td>11</td>\n",
       "      <td>17</td>\n",
       "      <td>19</td>\n",
       "      <td>22</td>\n",
       "      <td>27</td>\n",
       "      <td>31</td>\n",
       "      <td>40</td>\n",
       "      <td>38</td>\n",
       "      <td>24000000</td>\n",
       "    </tr>\n",
       "    <tr>\n",
       "      <th>147</th>\n",
       "      <td>Tuesday</td>\n",
       "      <td>23 Feb 2021</td>\n",
       "      <td>3</td>\n",
       "      <td>13</td>\n",
       "      <td>14</td>\n",
       "      <td>20</td>\n",
       "      <td>30</td>\n",
       "      <td>45</td>\n",
       "      <td>49</td>\n",
       "      <td>35</td>\n",
       "      <td>70000000</td>\n",
       "    </tr>\n",
       "    <tr>\n",
       "      <th>148</th>\n",
       "      <td>Friday</td>\n",
       "      <td>19 Feb 2021</td>\n",
       "      <td>1</td>\n",
       "      <td>5</td>\n",
       "      <td>10</td>\n",
       "      <td>18</td>\n",
       "      <td>20</td>\n",
       "      <td>40</td>\n",
       "      <td>42</td>\n",
       "      <td>47</td>\n",
       "      <td>65000000</td>\n",
       "    </tr>\n",
       "    <tr>\n",
       "      <th>149</th>\n",
       "      <td>Tuesday</td>\n",
       "      <td>16 Feb 2021</td>\n",
       "      <td>1</td>\n",
       "      <td>6</td>\n",
       "      <td>12</td>\n",
       "      <td>21</td>\n",
       "      <td>34</td>\n",
       "      <td>37</td>\n",
       "      <td>47</td>\n",
       "      <td>20</td>\n",
       "      <td>60000000</td>\n",
       "    </tr>\n",
       "    <tr>\n",
       "      <th>150</th>\n",
       "      <td>Friday</td>\n",
       "      <td>12 Feb 2021</td>\n",
       "      <td>2</td>\n",
       "      <td>5</td>\n",
       "      <td>10</td>\n",
       "      <td>11</td>\n",
       "      <td>14</td>\n",
       "      <td>23</td>\n",
       "      <td>33</td>\n",
       "      <td>47</td>\n",
       "      <td>55000000</td>\n",
       "    </tr>\n",
       "  </tbody>\n",
       "</table>\n",
       "<p>151 rows × 11 columns</p>\n",
       "</div>"
      ],
      "text/plain": [
       "         Day         Date   1   2   3   4   5   6   7 Bonus     Price\n",
       "0    Tuesday  26 Jul 2022   3   8   9  15  21  27  31    33  30516060\n",
       "1     Friday  22 Jul 2022   1   9  19  34  37  39  49     6  25000000\n",
       "2    Tuesday  19 Jul 2022   6   9  17  19  31  34  46     4  20000000\n",
       "3     Friday  15 Jul 2022   4   7  12  18  29  47  49    48  15000000\n",
       "4    Tuesday  12 Jul 2022   8  11  15  16  26  29  40    37  10000000\n",
       "..       ...          ...  ..  ..  ..  ..  ..  ..  ..   ...       ...\n",
       "146   Friday  26 Feb 2021  11  17  19  22  27  31  40    38  24000000\n",
       "147  Tuesday  23 Feb 2021   3  13  14  20  30  45  49    35  70000000\n",
       "148   Friday  19 Feb 2021   1   5  10  18  20  40  42    47  65000000\n",
       "149  Tuesday  16 Feb 2021   1   6  12  21  34  37  47    20  60000000\n",
       "150   Friday  12 Feb 2021   2   5  10  11  14  23  33    47  55000000\n",
       "\n",
       "[151 rows x 11 columns]"
      ]
     },
     "execution_count": 74,
     "metadata": {},
     "output_type": "execute_result"
    }
   ],
   "source": [
    "# Export data from .txt file\n",
    "import pandas as pd\n",
    "\n",
    "src_file = 'LottoMax_history_log.txt'\n",
    "data = []\n",
    "\n",
    "with open(src_file,'r') as f:\n",
    "    for line in f:\n",
    "       data.append(line)\n",
    "\n",
    "header = ['Day','Date','1','2','3','4','5','6','7','Bonus','Jackpot','Price']\n",
    "table = []\n",
    "for i in data:\n",
    "    lines = []\n",
    "    for j in range(12):\n",
    "        x = data.pop(0)\n",
    "        x = x.replace('\\n','')\n",
    "        lines.append(x)\n",
    "    for i in range(len(lines)):\n",
    "        if i>1 and i<10:\n",
    "            lines[i] = int(lines[i])\n",
    "        else:\n",
    "            lines[i] = str(lines[i])\n",
    "    s = lines[-1]\n",
    "    s=s.replace('$','')\n",
    "    s=s.replace(',','')\n",
    "    test = s.find('.')\n",
    "    \n",
    "    if test==-1:\n",
    "        lines[-1]=int(s)\n",
    "        table.append(lines)\n",
    "    else:\n",
    "        temp = s.split('.')\n",
    "        s = temp[0]\n",
    "        lines[-1]=(s)\n",
    "        table.append(lines)\n",
    "\n",
    "\n",
    "df = pd.DataFrame(table,columns=[header]).drop(columns=['Jackpot'])\n",
    "df\n",
    "\n"
   ]
  },
  {
   "cell_type": "code",
   "execution_count": 75,
   "metadata": {},
   "outputs": [
    {
     "data": {
      "text/plain": [
       "30516060"
      ]
     },
     "execution_count": 75,
     "metadata": {},
     "output_type": "execute_result"
    }
   ],
   "source": [
    "t = '30516060'\n",
    "int(t)\n"
   ]
  },
  {
   "cell_type": "code",
   "execution_count": 70,
   "metadata": {},
   "outputs": [
    {
     "data": {
      "text/plain": [
       "10"
      ]
     },
     "execution_count": 70,
     "metadata": {},
     "output_type": "execute_result"
    }
   ],
   "source": [
    "t.find('.')"
   ]
  },
  {
   "cell_type": "code",
   "execution_count": 53,
   "metadata": {},
   "outputs": [
    {
     "name": "stdout",
     "output_type": "stream",
     "text": [
      "<class 'pandas.core.frame.DataFrame'>\n",
      "RangeIndex: 151 entries, 0 to 150\n",
      "Data columns (total 11 columns):\n",
      " #   Column    Non-Null Count  Dtype \n",
      "---  ------    --------------  ----- \n",
      " 0   (Day,)    151 non-null    object\n",
      " 1   (Date,)   151 non-null    object\n",
      " 2   (1,)      151 non-null    int64 \n",
      " 3   (2,)      151 non-null    int64 \n",
      " 4   (3,)      151 non-null    int64 \n",
      " 5   (4,)      151 non-null    int64 \n",
      " 6   (5,)      151 non-null    int64 \n",
      " 7   (6,)      151 non-null    int64 \n",
      " 8   (7,)      151 non-null    int64 \n",
      " 9   (Bonus,)  151 non-null    int64 \n",
      " 10  (Price,)  151 non-null    object\n",
      "dtypes: int64(8), object(3)\n",
      "memory usage: 13.1+ KB\n"
     ]
    }
   ],
   "source": [
    "# df.infer_objects()\n",
    "df.info()"
   ]
  },
  {
   "cell_type": "code",
   "execution_count": null,
   "metadata": {},
   "outputs": [],
   "source": [
    "# Separate numbers in new df\n",
    "numbers = df[['1','2','3','4','5','6','7']]\n",
    "\n",
    "# create a heatmap\n",
    "import seaborn as sns\n",
    "\n",
    "hm = sns.heatmap(numbers)"
   ]
  },
  {
   "cell_type": "code",
   "execution_count": null,
   "metadata": {},
   "outputs": [],
   "source": []
  }
 ],
 "metadata": {
  "kernelspec": {
   "display_name": "Python 3.9.7 ('base')",
   "language": "python",
   "name": "python3"
  },
  "language_info": {
   "codemirror_mode": {
    "name": "ipython",
    "version": 3
   },
   "file_extension": ".py",
   "mimetype": "text/x-python",
   "name": "python",
   "nbconvert_exporter": "python",
   "pygments_lexer": "ipython3",
   "version": "3.9.7"
  },
  "orig_nbformat": 4,
  "vscode": {
   "interpreter": {
    "hash": "c42d99d755d00efaf066b964ceed011a4027ae5af520c8ef8190b9acee3a6094"
   }
  }
 },
 "nbformat": 4,
 "nbformat_minor": 2
}
